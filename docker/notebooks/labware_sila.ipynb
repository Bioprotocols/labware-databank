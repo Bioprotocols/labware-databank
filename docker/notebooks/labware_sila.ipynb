{
 "cells": [
  {
   "cell_type": "markdown",
   "id": "a1b60348-30cf-4025-8dc9-c1d2e4da7eb0",
   "metadata": {},
   "source": [
    "# Labware database  SiLA interface"
   ]
  },
  {
   "cell_type": "code",
   "execution_count": null,
   "id": "631b90ca-8b96-4751-b8c2-05db5073d1b1",
   "metadata": {
    "tags": []
   },
   "outputs": [],
   "source": [
    "! pip install sila2"
   ]
  },
  {
   "cell_type": "code",
   "execution_count": null,
   "id": "ff3265ce-605c-4079-8d6d-9ee5d44843a7",
   "metadata": {
    "tags": []
   },
   "outputs": [],
   "source": [
    "from sila2.client import SilaClient\n",
    "\n",
    "client = SilaClient(\"container-network\", 50052, insecure=True)\n",
    "\n",
    "res = client.LabwareQueryService.SPARQLQuery(Query=\"SELECT * WHERE { ?s ?p ?o } LIMIT 10\")\n",
    "res"
   ]
  },
  {
   "cell_type": "code",
   "execution_count": null,
   "id": "fc494f44-f643-453f-bf3a-cfd3dbdcd435",
   "metadata": {},
   "outputs": [],
   "source": []
  }
 ],
 "metadata": {
  "kernelspec": {
   "display_name": "Python 3 (ipykernel)",
   "language": "python",
   "name": "python3"
  },
  "language_info": {
   "codemirror_mode": {
    "name": "ipython",
    "version": 3
   },
   "file_extension": ".py",
   "mimetype": "text/x-python",
   "name": "python",
   "nbconvert_exporter": "python",
   "pygments_lexer": "ipython3",
   "version": "3.10.6 (main, Nov 14 2022, 16:10:14) [GCC 11.3.0]"
  },
  "vscode": {
   "interpreter": {
    "hash": "916dbcbb3f70747c44a77c7bcd40155683ae19c65e1c03b4aa3499c5328201f1"
   }
  }
 },
 "nbformat": 4,
 "nbformat_minor": 5
}

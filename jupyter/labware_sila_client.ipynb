{
 "cells": [
  {
   "attachments": {},
   "cell_type": "markdown",
   "metadata": {},
   "source": [
    "# LabOP labware database SiLA microservice eplorer"
   ]
  },
  {
   "cell_type": "code",
   "execution_count": null,
   "metadata": {},
   "outputs": [],
   "source": [
    "import logging\n",
    "from sila2.client import SilaClient\n",
    "\n",
    "client = SilaClient(\"127.0.0.1\", 50052, insecure=True)\n",
    "\n",
    "client.SiLAService.ImplementedFeatures.get()\n"
   ]
  },
  {
   "cell_type": "code",
   "execution_count": null,
   "metadata": {},
   "outputs": [],
   "source": [
    "client.SiLAService.GetFeatureDefinition(FeatureIdentifier=\"de.unigreifswald/labware/LabwareAutomationService/v1\")\n"
   ]
  },
  {
   "cell_type": "code",
   "execution_count": null,
   "metadata": {},
   "outputs": [],
   "source": [
    "# get all labware from Greiner\n",
    "\n",
    "query = \"SELECT * WHERE { ?s ?p ?o } LIMIT 100\""
   ]
  },
  {
   "cell_type": "code",
   "execution_count": null,
   "metadata": {},
   "outputs": [],
   "source": [
    "res = client.LabwareQueryService.SPARQLQuery(Query=query)\n",
    "res.Result"
   ]
  }
 ],
 "metadata": {
  "kernelspec": {
   "display_name": "lara10",
   "language": "python",
   "name": "python3"
  },
  "language_info": {
   "codemirror_mode": {
    "name": "ipython",
    "version": 3
   },
   "file_extension": ".py",
   "mimetype": "text/x-python",
   "name": "python",
   "nbconvert_exporter": "python",
   "pygments_lexer": "ipython3",
   "version": "3.10.6"
  },
  "orig_nbformat": 4,
  "vscode": {
   "interpreter": {
    "hash": "4e9d87653db52c347ca95dcfde7039702998970d88d06a3d2a1455e0aa9e09dd"
   }
  }
 },
 "nbformat": 4,
 "nbformat_minor": 2
}

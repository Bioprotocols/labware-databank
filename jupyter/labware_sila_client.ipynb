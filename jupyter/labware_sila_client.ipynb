{
 "cells": [
  {
   "attachments": {},
   "cell_type": "markdown",
   "metadata": {},
   "source": [
    "# LabOP labware database SiLA microservice eplorer"
   ]
  },
  {
   "cell_type": "code",
   "execution_count": 47,
   "metadata": {},
   "outputs": [
    {
     "data": {
      "text/plain": [
       "['org.silastandard/core/SiLAService/v1',\n",
       " 'de.unigreifswald/labware/LabwareAutomationService/v1',\n",
       " 'de.unigreifswald/labware/LabwareOntologyService/v1',\n",
       " 'de.unigreifswald/labware/LabwareQueryService/v1']"
      ]
     },
     "execution_count": 47,
     "metadata": {},
     "output_type": "execute_result"
    }
   ],
   "source": [
    "import logging\n",
    "from sila2.client import SilaClient\n",
    "\n",
    "client = SilaClient(\"127.0.0.1\", 50052, insecure=True)\n",
    "\n",
    "client.SiLAService.ImplementedFeatures.get()\n"
   ]
  },
  {
   "cell_type": "code",
   "execution_count": 54,
   "metadata": {},
   "outputs": [],
   "source": [
    "# get all labware from Greiner\n",
    "\n",
    "query = \"SELECT * WHERE { ?s ?p ?o } LIMIT 100\""
   ]
  },
  {
   "cell_type": "code",
   "execution_count": 55,
   "metadata": {},
   "outputs": [
    {
     "data": {
      "text/plain": [
       "\"[[.anonymous, 6, owl.Ontology], [emmo.GasLiquidSuspension, 9, emmo.Suspension], [emmo.GasLiquidSuspension, 9, emmo.Gas], [emmo.GasLiquidSuspension, 6, 11], [emmo.HyperfineTransitionFrequencyOfCs, 6, 11], [emmo.HyperfineTransitionFrequencyOfCs, 9, emmo.Frequency], [emmo.HyperfineTransitionFrequencyOfCs, 9, emmo.SIExactConstant], [emmo.hasSpatialDirectPart.some(emmo.Nucleus), 6, 17], [emmo.hasSpatialDirectPart.some(emmo.Nucleus), 18, emmo.hasSpatialDirectPart], [emmo.hasSpatialDirectPart.some(emmo.Nucleus), 24, emmo.Nucleus], [emmo.Liquid, 6, 11], [emmo.Liquid, 9, emmo.Fluid], [emmo.Liquid, 9, emmo.StateOfMatter], [emmo.Atom, 6, 11], [emmo.Atom, 9, emmo.State], [emmo.Atom, 9, emmo.hasSpatialDirectPart.some(emmo.ElectronCloud)], [emmo.Atom, 9, emmo.MolecularEntity], [emmo.Atom, 9, emmo.hasSpatialDirectPart.some(emmo.Nucleus)], [emmo.hasSymbolData.value('Gy'), 6, 17], [emmo.hasSymbolData.value('Gy'), 18, emmo.hasSymbolData], [Inverse(emmo.hasVariable).only(emmo.hasNumericalData.value(1000.0)), 18, Inverse(emmo.hasVariable)], [Inverse(emmo.hasVariable).only(emmo.hasNumericalData.value(1000.0)), 6, 17], [Inverse(emmo.hasVariable).only(emmo.hasNumericalData.value(1000.0)), 25, emmo.hasNumericalData.value(1000.0)], [emmo.VIMTerm, 6, owl.AnnotationProperty], [emmo.VIMTerm, 10, rdf-schema.isDefinedBy], [emmo.Theory, 9, emmo.Conventional], [emmo.Theory, 6, 11], [emmo.Quantity, 9, emmo.hasReferenceUnit.exactly(1, emmo.ReferenceUnit)], [emmo.Quantity, 9, emmo.State], [emmo.Quantity, 141, emmo-inferred-chemistry2.], [emmo.Quantity, 9, emmo.hasQuantityValue.exactly(1, emmo.Numerical)], [emmo.Quantity, 6, 11], [emmo.Quantity, 9, emmo.Metrological], [emmo-inferred-chemistry2., 3, emmo.Ampere], [emmo-inferred-chemistry2., 4, emmo-inferred-chemistry2.], [emmo.PotentialEnergy, 9, emmo.Energy], [emmo.PotentialEnergy, 6, 11], [emmo.CGSUnit, 9, emmo.MeasurementUnit], [emmo.CGSUnit, 6, 11], [emmo.hasSymbolData.value('H'), 18, emmo.hasSymbolData], [emmo.hasSymbolData.value('H'), 6, 17], [emmo-inferred-chemistry2., 3, emmo.GasLiquidSuspension], [emmo-inferred-chemistry2., 4, emmo-inferred-chemistry2.], [emmo.MagneticFlux, 6, 11], [emmo.MagneticFlux, 9, emmo.ISQDerivedQuantity], [emmo.SISpecialUnit, 9, emmo.SpecialUnit], [emmo.SISpecialUnit, 9, emmo.SIUnitSymbol], [emmo.SISpecialUnit, 141, emmo-inferred-chemistry2.], [emmo.SISpecialUnit, 6, 11], [emmo-inferred-chemistry2., 4, emmo-inferred-chemistry2.], [emmo-inferred-chemistry2., 3, emmo.SingleComponentComposition], [emmo.OrdinalQuantity, 6, 11], [emmo.OrdinalQuantity, 9, emmo.Quantity], [emmo.hasProperPart, 6, owl.TransitiveProperty], [emmo.hasProperPart, 10, emmo.hasPart], [emmo.hasProperPart, 6, owl.ObjectProperty], [emmo.Work, 9, emmo.Energy], [emmo.Work, 6, 11], [emmo-inferred-chemistry2., 4, 5], [emmo-inferred-chemistry2., 3, emmo.Field], [emmo.hasQuantityValue, 6, owl.AsymmetricProperty], [emmo.hasQuantityValue, 8, emmo.Numerical], [emmo.hasQuantityValue, 6, owl.IrreflexiveProperty], [emmo.hasQuantityValue, 7, emmo.Quantity], [emmo.hasQuantityValue, 6, owl.InverseFunctionalProperty], [emmo.hasQuantityValue, 10, emmo.hasSpatialDirectPart], [emmo.hasQuantityValue, 6, owl.ObjectProperty], [emmo.SubMultipleUnit, 9, emmo.PrefixedUnit], [emmo.SubMultipleUnit, 6, 11], [emmo.MassFraction, 6, 11], [emmo.MassFraction, 9, emmo.RatioQuantity], [emmo.MassFraction, 9, emmo.hasReferenceUnit.only(emmo.MassFractionUnit)], [emmo.MassFraction, 9, emmo.ChemicalCompositionQuantity], [emmo.Steradian, 9, emmo.hasSymbolData.value('sr')], [emmo.Steradian, 9, emmo.SISpecialUnit], [emmo.Steradian, 9, emmo.AreaFractionUnit], [emmo.Steradian, 6, 11], [emmo.Steradian, 9, emmo.hasPhysicalDimension.some(emmo.DimensionOne)], [Inverse(emmo.hasProperParticipant).some(emmo.Manufacturing), 24, emmo.Manufacturing], [Inverse(emmo.hasProperParticipant).some(emmo.Manufacturing), 18, Inverse(emmo.hasProperParticipant)], [Inverse(emmo.hasProperParticipant).some(emmo.Manufacturing), 6, 17], [emmo.FineStructureConstant, 9, emmo.MeasuredConstant], [emmo.FineStructureConstant, 6, 11], [emmo.PhaseHeterogeneousMixture, 6, 11], [emmo.PhaseHeterogeneousMixture, 9, emmo.Mixture], [emmo.PhaseHeterogeneousMixture, 9, emmo.hasProperPart.some(emmo.PhaseOfMatter)], [emmo.KineticEnergy, 9, emmo.Energy], [emmo.KineticEnergy, 6, 11], [emmo.example, 8, <class 'str'>], [emmo.example, 6, owl.AnnotationProperty], [emmo.example, 10, rdf-schema.comment], [emmo.ChemicalFormula, 6, 11], [emmo.ChemicalFormula, 9, emmo.State], [emmo.ChemicalFormula, 9, emmo.ChemicalSpecies], [emmo.ChemicalFormula, 9, emmo.hasSpatialDirectPart.some(emmo.ChemicalElement)], [emmo.hasQuantityValue.some(emmo.Shape3Vector), 18, emmo.hasQuantityValue], [emmo.hasQuantityValue.some(emmo.Shape3Vector), 24, emmo.Shape3Vector], [emmo.hasQuantityValue.some(emmo.Shape3Vector), 6, 17], [emmo.IlluminanceDimension, 9, emmo.PhysicalDimension], [emmo.IlluminanceDimension, 33, emmo.hasSymbolData.value('T0 L-2 M0 I0 Θ0 N0 J+1')]]\""
      ]
     },
     "execution_count": 55,
     "metadata": {},
     "output_type": "execute_result"
    }
   ],
   "source": [
    "res = client.LabwareQueryService.SPARQLQuery(Query=query)\n",
    "res.Result"
   ]
  },
  {
   "cell_type": "code",
   "execution_count": null,
   "metadata": {},
   "outputs": [],
   "source": []
  },
  {
   "cell_type": "code",
   "execution_count": null,
   "metadata": {},
   "outputs": [],
   "source": []
  }
 ],
 "metadata": {
  "kernelspec": {
   "display_name": "lara10",
   "language": "python",
   "name": "python3"
  },
  "language_info": {
   "codemirror_mode": {
    "name": "ipython",
    "version": 3
   },
   "file_extension": ".py",
   "mimetype": "text/x-python",
   "name": "python",
   "nbconvert_exporter": "python",
   "pygments_lexer": "ipython3",
   "version": "3.10.6"
  },
  "orig_nbformat": 4,
  "vscode": {
   "interpreter": {
    "hash": "4e9d87653db52c347ca95dcfde7039702998970d88d06a3d2a1455e0aa9e09dd"
   }
  }
 },
 "nbformat": 4,
 "nbformat_minor": 2
}

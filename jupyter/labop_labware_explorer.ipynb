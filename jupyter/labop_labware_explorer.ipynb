{
 "cells": [
  {
   "attachments": {},
   "cell_type": "markdown",
   "metadata": {},
   "source": [
    "# LabOP labware ontology Explorer\n",
    "\n",
    "This notebook is a work in progress. It is intended to be a place to explore the LabOP labware ontology.\n",
    "\n",
    "The ontology is a set of OWL ontologies that describe the structure and semantics of labware. \n",
    "\n",
    "The ontology is designed to be used in conjunction with the [Labware Ontology Ontology](www.github/bioprotocols/)"
   ]
  },
  {
   "cell_type": "code",
   "execution_count": null,
   "metadata": {},
   "outputs": [],
   "source": [
    "#  currently only reflib 4.2.1 is supported\n",
    "#! pip install rdflib==4.2.1\n",
    "#! pip install packaging==21.0\n",
    "import os\n",
    "import pathlib\n",
    "import logging\n",
    "import pandas as pd\n",
    "import labop_labware_ontology.labop_labware_ontology_impl as lolwi"
   ]
  },
  {
   "cell_type": "code",
   "execution_count": null,
   "metadata": {},
   "outputs": [],
   "source": [
    "lwi = lolwi.LabwareInterface()\n",
    "lwi.prefix_dict"
   ]
  },
  {
   "cell_type": "code",
   "execution_count": null,
   "metadata": {},
   "outputs": [],
   "source": [
    "list(lwi.lolw_tbox.lolwt.classes())"
   ]
  },
  {
   "cell_type": "code",
   "execution_count": null,
   "metadata": {},
   "outputs": [],
   "source": [
    "lwi.lolw_abox.import_csv('../labware_catalogues/labop_labware_catalog.csv')"
   ]
  },
  {
   "cell_type": "code",
   "execution_count": null,
   "metadata": {},
   "outputs": [],
   "source": [
    "lwi.export_ontologies()"
   ]
  },
  {
   "cell_type": "code",
   "execution_count": null,
   "metadata": {},
   "outputs": [],
   "source": [
    "# loading an example labware catalog csv file:\n",
    "\n",
    "print(os.getcwd())\n",
    "\n",
    "strateos_csv = \"./strateos_labware.csv\"\n",
    "strateos_cont_df = pd.read_csv(strateos_csv, delimiter=\";\")\n",
    "strateos_cont_df = strateos_cont_df.reset_index()  # make sure indexes pair with number of rows\n",
    "strateos_cont_df.head(32)"
   ]
  },
  {
   "cell_type": "code",
   "execution_count": null,
   "metadata": {},
   "outputs": [],
   "source": [
    "with lw.lolw:\n",
    "  for index,row in strateos_cont_df.iterrows():\n",
    "    print(row['Id'], \"-- >\", row['WellCount'])\n",
    "    law = lw.lolw.Labware( row['Id'],\n",
    "                             hasManifacturer=row['Vendor'],\n",
    "                             hasNumRows=row['WellCount'] / row['ColumnCount'], \n",
    "                             hasNumCols=row['ColumnCount'],\n",
    "                             hasNumWells=row['WellCount'],\n",
    "                             #hasHeight=row['Height (mm)'],\n",
    "                             #hasWellVolume=row['Well Volume (ul)'],\n",
    "                               )"
   ]
  },
  {
   "cell_type": "code",
   "execution_count": null,
   "metadata": {},
   "outputs": [],
   "source": [
    "lw.lolw.mtp_96_flat_uv.is_a"
   ]
  },
  {
   "cell_type": "code",
   "execution_count": null,
   "metadata": {},
   "outputs": [],
   "source": [
    "lw.lolw.hasNumCols, lw.lolw.hasNumWells"
   ]
  },
  {
   "cell_type": "code",
   "execution_count": null,
   "metadata": {},
   "outputs": [],
   "source": []
  },
  {
   "attachments": {},
   "cell_type": "markdown",
   "metadata": {},
   "source": [
    "## Competency questions to be answered by the ontology"
   ]
  },
  {
   "cell_type": "code",
   "execution_count": null,
   "metadata": {},
   "outputs": [],
   "source": [
    "# provide width, length, height of a plate instance \n",
    "\n",
    "# in which unit is the width, length, height defined?\n",
    "\n",
    "\n",
    "# which force is required to open the lid of a screw cap vial ?\n",
    "\n",
    "# is a certain plate of type \"SLAS1-2004compliant\" ?\n",
    "\n",
    "# Where can I punch the septum of a screw cap vial / GC- / HPLC vial ?\n",
    "\n",
    "# What is the max. volume of a well of a multiwell plate ?\n",
    "\n",
    "# at with height can a robot grab a microtiterplate with a lid ?\n"
   ]
  },
  {
   "attachments": {},
   "cell_type": "markdown",
   "metadata": {},
   "source": [
    "## SPARQL queries"
   ]
  },
  {
   "cell_type": "code",
   "execution_count": null,
   "metadata": {},
   "outputs": [],
   "source": [
    "prefix_dict = {\n",
    "    'rdf': \"http://www.w3.org/1999/02/22-rdf-syntax-ns#\",\n",
    "    'rdfs': \"http://www.w3.org/2000/01/rdf-schema#\",\n",
    "    'xml': \"http://www.w3.org/XML/1998/namespace\",\n",
    "    'xsd': \"http://www.w3.org/2001/XMLSchema#\",\n",
    "    'owl': \"http://www.w3.org/2002/07/owl#\",\n",
    "    'skos': \"http://www.w3.org/2004/02/skos/core#\",\n",
    "    'dc': \"http://purl.org/dc/elements/1.1/\",\n",
    "    'dcterm': \"http://purl.org/dc/terms/\",\n",
    "    'dctype': \"http://purl.org/dc/dcmitype/\",\n",
    "    'foaf': \"http://xmlns.com/foaf/0.1/\",\n",
    "    'wd': \"http://www.wikidata.org/entity/\",\n",
    "    'ex': \"http://www.example.com/\",\n",
    "    'emmo': \"http://emmo.info/emmo#\",\n",
    "    'lolw': \"http://www.labop.org/labware'#\",\n",
    "}"
   ]
  },
  {
   "cell_type": "code",
   "execution_count": null,
   "metadata": {},
   "outputs": [],
   "source": [
    "graph = lw.emmo_world.as_rdflib_graph()\n",
    "\n",
    "for prefix, iri in prefix_dict.items():\n",
    "    print(prefix, \"--- \", iri )\n",
    "    graph.bind(prefix, iri)"
   ]
  },
  {
   "cell_type": "code",
   "execution_count": null,
   "metadata": {},
   "outputs": [],
   "source": [
    "# get all labware from Greiner\n",
    "\n",
    "query = \"\"\"\n",
    "\n",
    "PREFIX lolw: <http://www.labop.org/labware#>\n",
    "\n",
    "SELECT ?lm\n",
    "WHERE {\n",
    "    ?lm rdf:type lolw:Labware.\n",
    "    ?lm lolw:hasManifacturer \"Corning\".\n",
    "    }\n",
    "\"\"\""
   ]
  },
  {
   "cell_type": "code",
   "execution_count": null,
   "metadata": {},
   "outputs": [],
   "source": [
    "results = list(lw.emmo_world.sparql(query))\n",
    "results"
   ]
  },
  {
   "cell_type": "code",
   "execution_count": null,
   "metadata": {},
   "outputs": [],
   "source": [
    "query = \"\"\"\n",
    "\n",
    "PREFIX lolw: <http://www.labop.org/labware#>\n",
    "\n",
    "SELECT ?lw_name ?lw_num_wells \n",
    "WHERE {\n",
    "    ?lw_name rdf:type lolw:Labware.\n",
    "    ?lw_name lolw:hasManifacturer \"Greiner\".\n",
    "    ?lw_name lolw:hasNumWells ?lw_num_wells.\n",
    "    }\n",
    "\"\"\""
   ]
  },
  {
   "cell_type": "code",
   "execution_count": null,
   "metadata": {},
   "outputs": [],
   "source": [
    "select_statement = re.findall(r\"SELECT.*\\n\", query)[0]\n",
    "variable_names = re.findall(r\"\\?(\\w+)\", select_statement)\n",
    "variable_names"
   ]
  },
  {
   "cell_type": "code",
   "execution_count": null,
   "metadata": {},
   "outputs": [],
   "source": [
    "\n",
    "\n",
    "# pandas dataframe from res_list with header df_head\n",
    "\n",
    "\n",
    "res_df = pd.DataFrame(columns=variable_names, data=list(lw.emmo_world.sparql(query)))\n",
    "#res_df.to_json()\n",
    "#results_json = res_df.to_json(orient=\"records\")"
   ]
  },
  {
   "cell_type": "code",
   "execution_count": null,
   "metadata": {},
   "outputs": [],
   "source": []
  }
 ],
 "metadata": {
  "kernelspec": {
   "display_name": "lara",
   "language": "python",
   "name": "python3"
  },
  "language_info": {
   "codemirror_mode": {
    "name": "ipython",
    "version": 3
   },
   "file_extension": ".py",
   "mimetype": "text/x-python",
   "name": "python",
   "nbconvert_exporter": "python",
   "pygments_lexer": "ipython3",
   "version": "3.10.6"
  },
  "orig_nbformat": 4
 },
 "nbformat": 4,
 "nbformat_minor": 2
}

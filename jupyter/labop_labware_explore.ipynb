{
 "cells": [
  {
   "attachments": {},
   "cell_type": "markdown",
   "metadata": {},
   "source": [
    "# LabOP labware ontology Explorer\n",
    "\n",
    "This notebook is a work in progress. It is intended to be a place to explore the LabOP labware ontology.\n",
    "\n",
    "The ontology is a set of OWL ontologies that describe the structure and semantics of labware. \n",
    "\n",
    "The ontology is designed to be used in conjunction with the [Labware Ontology Ontology](www.github/bioprotocols/)"
   ]
  },
  {
   "cell_type": "code",
   "execution_count": null,
   "metadata": {},
   "outputs": [],
   "source": [
    "from labop_labware_ontology.labware_tbox import LOLabwareTBox"
   ]
  },
  {
   "cell_type": "code",
   "execution_count": null,
   "metadata": {},
   "outputs": [],
   "source": [
    "lw = LOLabwareTBox()\n",
    "lw.define_ontology()\n",
    "\n",
    "list(lw.lolw.classes())"
   ]
  },
  {
   "attachments": {},
   "cell_type": "markdown",
   "metadata": {},
   "source": [
    "## Defining individuals - Assertion Component (A-Box)"
   ]
  },
  {
   "cell_type": "markdown",
   "metadata": {},
   "source": []
  }
 ],
 "metadata": {
  "kernelspec": {
   "display_name": "lara",
   "language": "python",
   "name": "lara"
  },
  "language_info": {
   "codemirror_mode": {
    "name": "ipython",
    "version": 3
   },
   "file_extension": ".py",
   "mimetype": "text/x-python",
   "name": "python",
   "nbconvert_exporter": "python",
   "pygments_lexer": "ipython3",
   "version": "3.10.6"
  },
  "orig_nbformat": 4,
  "vscode": {
   "interpreter": {
    "hash": "916dbcbb3f70747c44a77c7bcd40155683ae19c65e1c03b4aa3499c5328201f1"
   }
  }
 },
 "nbformat": 4,
 "nbformat_minor": 2
}

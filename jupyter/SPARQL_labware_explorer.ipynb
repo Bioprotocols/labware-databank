{
 "cells": [
  {
   "attachments": {},
   "cell_type": "markdown",
   "metadata": {},
   "source": [
    "# LabOP / SiLA labware SPARQL ontology and databank explorer\n",
    "\n",
    "This notebook illustrate simple examples of how to query the SPARQL endpoint of the [LabOP labware ontology](github.com/bioprotocols/labware-databank) SPARQL server in a Jupyter notebook.\n",
    "\n",
    "There is also a Web interface to the SPARQL endpoint at [http://localhost:8008](https://localhost:8008) available.\n",
    "\n",
    "To test the SPARQL endpoint, please paste the following query into the SPARQL query box or use the python SPARQL wrapper as shown below.\n"
   ]
  },
  {
   "cell_type": "code",
   "execution_count": null,
   "metadata": {},
   "outputs": [],
   "source": [
    "import json\n",
    "from io import StringIO\n",
    "import urllib.parse \n",
    "\n",
    "from SPARQLWrapper import SPARQLWrapper, JSON, CSV\n",
    "import pandas as pd"
   ]
  },
  {
   "cell_type": "code",
   "execution_count": null,
   "metadata": {},
   "outputs": [],
   "source": [
    "# SPARQL query wrapper object\n",
    "sparql = SPARQLWrapper(\"http://labware-databank:8000/sparql\")"
   ]
  },
  {
   "cell_type": "code",
   "execution_count": null,
   "metadata": {},
   "outputs": [],
   "source": [
    "query = \"\"\"\n",
    "PREFIX rdf: <http://www.w3.org/1999/02/22-rdf-syntax-ns#>\n",
    "PREFIX rdfs: <http://www.w3.org/2000/01/rdf-schema#>\n",
    "SELECT * WHERE {\n",
    "    GRAPH ?g {\n",
    "        ?s ?p ?o .\n",
    "    }\n",
    "} LIMIT 10\n",
    "\"\"\""
   ]
  },
  {
   "cell_type": "code",
   "execution_count": null,
   "metadata": {},
   "outputs": [],
   "source": [
    "sparql.setQuery(query)\n",
    "sparql.setReturnFormat(JSON)\n",
    "#sparql.setReturnFormat(CSV)"
   ]
  },
  {
   "cell_type": "code",
   "execution_count": null,
   "metadata": {},
   "outputs": [],
   "source": [
    "# raw results\n",
    "result = sparql.query().convert()\n",
    "result"
   ]
  },
  {
   "cell_type": "code",
   "execution_count": null,
   "metadata": {},
   "outputs": [],
   "source": [
    "# result processing:"
   ]
  }
 ],
 "metadata": {
  "kernelspec": {
   "display_name": "lara",
   "language": "python",
   "name": "python3"
  },
  "language_info": {
   "codemirror_mode": {
    "name": "ipython",
    "version": 3
   },
   "file_extension": ".py",
   "mimetype": "text/x-python",
   "name": "python",
   "nbconvert_exporter": "python",
   "pygments_lexer": "ipython3",
   "version": "3.10.6"
  },
  "orig_nbformat": 4
 },
 "nbformat": 4,
 "nbformat_minor": 2
}

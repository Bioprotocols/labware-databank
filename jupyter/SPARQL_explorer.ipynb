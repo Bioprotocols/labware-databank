{
 "cells": [
  {
   "cell_type": "code",
   "execution_count": null,
   "id": "064ebd8c-ed20-4bff-bae6-a02cc5a23b57",
   "metadata": {
    "tags": []
   },
   "outputs": [],
   "source": [
    "import json\n",
    "from io import StringIO\n",
    "import urllib.parse \n",
    "\n",
    "from SPARQLWrapper import SPARQLWrapper, JSON, CSV\n",
    "import pandas as pd"
   ]
  },
  {
   "cell_type": "code",
   "execution_count": null,
   "id": "b2dfb61c-92d4-495a-abcc-6a8b9eb6bdec",
   "metadata": {
    "tags": []
   },
   "outputs": [],
   "source": [
    "# Specify the DBPedia endpoint\n",
    "sparql = SPARQLWrapper(\"http://dbpedia.org/sparql\")\n",
    "\n",
    "# Query for the description of \"Capsaicin\", filtered by language\n",
    "sparql.setQuery(\"\"\"\n",
    "    PREFIX rdfs: <http://www.w3.org/2000/01/rdf-schema#>\n",
    "    SELECT ?comment\n",
    "    WHERE { <http://dbpedia.org/resource/Capsaicin> rdfs:comment ?comment\n",
    "    FILTER (LANG(?comment)='en')\n",
    "    }\n",
    "\"\"\")\n",
    "\n",
    "# Convert results to JSON format\n",
    "sparql.setReturnFormat(JSON)\n",
    "result = sparql.query().convert()\n",
    "\n",
    "# The return data contains \"bindings\" (a list of dictionaries)\n",
    "for hit in result[\"results\"][\"bindings\"]:\n",
    "    # We want the \"value\" attribute of the \"comment\" field\n",
    "    print(hit[\"comment\"][\"value\"])\n"
   ]
  },
  {
   "cell_type": "code",
   "execution_count": null,
   "id": "0edf96ed-2d81-43fb-aa6a-e64ed07c9c71",
   "metadata": {
    "tags": []
   },
   "outputs": [],
   "source": [
    "sparql = SPARQLWrapper(\n",
    "    \"http://vocabs.ardc.edu.au/repository/api/sparql/\"\n",
    "    \"csiro_international-chronostratigraphic-chart_geologic-time-scale-2020\"\n",
    ")\n",
    "sparql.setReturnFormat(JSON)\n",
    "\n",
    "# gets the first 3 geological ages\n",
    "# from a Geological Timescale database,\n",
    "# via a SPARQL endpoint\n",
    "sparql.setQuery(\"\"\"\n",
    "    PREFIX gts: <http://resource.geosciml.org/ontology/timescale/gts#>\n",
    "\n",
    "    SELECT *\n",
    "    WHERE {\n",
    "        ?a a gts:Age .\n",
    "    }\n",
    "    ORDER BY ?a\n",
    "    LIMIT 3\n",
    "    \"\"\"\n",
    ")\n",
    "\n",
    "try:\n",
    "    ret = sparql.queryAndConvert()\n",
    "\n",
    "    for r in ret[\"results\"][\"bindings\"]:\n",
    "        print(r)\n",
    "except Exception as e:\n",
    "    print(e)"
   ]
  },
  {
   "cell_type": "code",
   "execution_count": null,
   "id": "306c8323-a7b5-41ad-89fc-5f5b3aab190e",
   "metadata": {
    "tags": []
   },
   "outputs": [],
   "source": [
    "sparql = SPARQLWrapper(\"http://labware-databank:8000/sparql\")"
   ]
  },
  {
   "cell_type": "code",
   "execution_count": null,
   "id": "69c16273-f3b7-40d2-8864-8b0560d43f6e",
   "metadata": {
    "tags": []
   },
   "outputs": [],
   "source": [
    "query = \"\"\"\n",
    "PREFIX rdf: <http://www.w3.org/1999/02/22-rdf-syntax-ns#>\n",
    "PREFIX rdfs: <http://www.w3.org/2000/01/rdf-schema#>\n",
    "SELECT * WHERE {\n",
    "    GRAPH ?g {\n",
    "        ?s ?p ?o .\n",
    "    }\n",
    "} LIMIT 10\n",
    "\"\"\""
   ]
  },
  {
   "cell_type": "code",
   "execution_count": null,
   "id": "554f1d75-a0ae-479c-aa19-fe68d627f726",
   "metadata": {
    "tags": []
   },
   "outputs": [],
   "source": [
    "sparql.setQuery(query)\n",
    "sparql.setReturnFormat(CSV)"
   ]
  },
  {
   "cell_type": "code",
   "execution_count": null,
   "id": "7dececc1-5712-4159-8832-be40e07a2727",
   "metadata": {
    "tags": []
   },
   "outputs": [],
   "source": [
    "result = sparql.query().convert()\n",
    "result"
   ]
  },
  {
   "cell_type": "code",
   "execution_count": null,
   "id": "2773bd4b-85ca-4c3a-b07d-609cac347d89",
   "metadata": {
    "tags": []
   },
   "outputs": [],
   "source": [
    "csvStringIO = StringIO(str(result))\n",
    "df = pd.read_csv(csvStringIO, sep=\",\", header=None)\n",
    "\n",
    "\n",
    "df"
   ]
  },
  {
   "cell_type": "code",
   "execution_count": null,
   "id": "6d48b1ec-a53d-4f7b-88c0-54aa705e3bb9",
   "metadata": {
    "tags": []
   },
   "outputs": [],
   "source": [
    "query = \"\"\"\n",
    "PREFIX rdf: <http://www.w3.org/1999/02/22-rdf-syntax-ns#>\n",
    "PREFIX rdfs: <http://www.w3.org/2000/01/rdf-schema#>\n",
    "SELECT * WHERE { ?s ?p ?o } LIMIT 10\n",
    "\"\"\""
   ]
  },
  {
   "cell_type": "code",
   "execution_count": null,
   "id": "85460776-ec2b-4b6a-9945-dc570f550f59",
   "metadata": {
    "tags": []
   },
   "outputs": [],
   "source": [
    "sparql.setQuery(query)\n",
    "sparql.setReturnFormat(JSON)"
   ]
  },
  {
   "cell_type": "code",
   "execution_count": null,
   "id": "0b3cb17f-9455-4e74-af80-66e0d86f73a9",
   "metadata": {
    "tags": []
   },
   "outputs": [],
   "source": [
    "try:\n",
    "    ret = sparql.queryAndConvert()\n",
    "\n",
    "    for r in ret[\"results\"][\"bindings\"]:\n",
    "        print(r)\n",
    "except Exception as e:\n",
    "    print(e)"
   ]
  },
  {
   "cell_type": "code",
   "execution_count": null,
   "id": "95145fda-da29-4801-a69b-c682f51fb814",
   "metadata": {
    "tags": []
   },
   "outputs": [],
   "source": [
    "ret"
   ]
  },
  {
   "cell_type": "code",
   "execution_count": null,
   "id": "6e450708-76da-4a15-bc0c-e3d9a8d69476",
   "metadata": {
    "tags": []
   },
   "outputs": [],
   "source": [
    "# The return data contains \"bindings\" (a list of dictionaries)\n",
    "for hit in result:\n",
    "    # We want the \"value\" attribute of the \"comment\" field\n",
    "    #print(hit[\"comment\"][\"value\"])\n",
    "    hit\n"
   ]
  },
  {
   "cell_type": "code",
   "execution_count": null,
   "id": "bec280d2-c16c-4a8c-8ed5-d6bc71cddc3e",
   "metadata": {
    "tags": []
   },
   "outputs": [],
   "source": [
    "query_old = \"\"\"\n",
    "    SELECT ?subj ?prop\n",
    "    WHERE {\n",
    "        ?subj ?prop ?obj\n",
    "    }\n",
    "    \"\"\"\n",
    "\n",
    "query = \"\"\"\n",
    "PREFIX rdf: <http://www.w3.org/1999/02/22-rdf-syntax-ns#>\n",
    "PREFIX rdfs: <http://www.w3.org/2000/01/rdf-schema#>\n",
    "SELECT * WHERE { ?s ?p ?o } LIMIT 10\n",
    "\"\"\""
   ]
  },
  {
   "cell_type": "code",
   "execution_count": null,
   "id": "6edb51b1-3e2d-4c21-ae2a-a152316e54ed",
   "metadata": {
    "tags": []
   },
   "outputs": [],
   "source": [
    "from SPARQLWrapper import SPARQLWrapper2\n",
    "\n",
    "sparql = SPARQLWrapper2(\"http://labware-databank:8000/sparql\")\n",
    "sparql.setReturnFormat(JSON)\n",
    "sparql.setQuery(query)\n",
    "\n",
    "try:\n",
    "    ret = sparql.query()\n",
    "    print(ret.variables)  # this is an array consisting of \"subj\" and \"prop\"\n",
    "    for binding in ret.bindings:\n",
    "        # each binding is a dictionary. Let us just print the results\n",
    "        print(f\"{binding['subj'].value}, {binding['subj'].type}\")\n",
    "        print(f\"{binding['prop'].value}, {binding['prop'].type}\")\n",
    "except Exception as e:\n",
    "    print(e)"
   ]
  },
  {
   "cell_type": "code",
   "execution_count": null,
   "id": "26f2d2f0-2b2a-4020-9f2e-e4d9413c138d",
   "metadata": {
    "tags": []
   },
   "outputs": [],
   "source": [
    "ret"
   ]
  },
  {
   "cell_type": "code",
   "execution_count": null,
   "id": "3fbce470-b8d7-4419-b9c0-c7aa2b715ce8",
   "metadata": {
    "tags": []
   },
   "outputs": [],
   "source": [
    "from SPARQLWrapper import SPARQLWrapper2\n",
    "\n",
    "\n",
    "\n",
    "sparql = SPARQLWrapper2(\"http://dbpedia.org/sparql\")\n",
    "sparql.setQuery(\"\"\"\n",
    "    PREFIX dbp:  <http://dbpedia.org/resource/>\n",
    "    PREFIX rdfs: <http://www.w3.org/2000/01/rdf-schema#>\n",
    "\n",
    "    SELECT ?label\n",
    "    WHERE {\n",
    "        dbp:Asturias rdfs:label ?label\n",
    "    }\n",
    "    LIMIT 3\n",
    "    \"\"\"\n",
    "                )\n",
    "\n",
    "for result in sparql.query().bindings:\n",
    "    print(f\"{result['label'].lang}, {result['label'].value}\")\n"
   ]
  },
  {
   "cell_type": "code",
   "execution_count": null,
   "id": "64bf7197-b37d-42c2-83b5-6653105bd6cb",
   "metadata": {
    "tags": []
   },
   "outputs": [],
   "source": [
    "query = 'Hellö Wörld@Python'\n",
    "urllib.parse.quote(query)"
   ]
  },
  {
   "cell_type": "code",
   "execution_count": null,
   "id": "b599d5ea-d093-42b2-b54f-0997b80eebd0",
   "metadata": {
    "tags": []
   },
   "outputs": [],
   "source": [
    "from SPARQLWrapper import SPARQLWrapper2\n",
    "\n",
    "query = \"\"\"\n",
    "PREFIX rdf: <http://www.w3.org/1999/02/22-rdf-syntax-ns#>\n",
    "PREFIX rdfs: <http://www.w3.org/2000/01/rdf-schema#>\n",
    "SELECT * WHERE {\n",
    "    GRAPH ?g {\n",
    "        ?s ?p ?o .\n",
    "    }\n",
    "} LIMIT 10\n",
    "\"\"\"\n",
    "\n",
    "sparql = SPARQLWrapper2(\"http://labware-databank:8000/sparql\")\n",
    "sparql.setQuery(urllib.parse.quote(query))\n",
    "\n",
    "#for result in sparql.query().bindings:\n",
    "#    print(result) #print(f\"{result['label'].lang}, {result['label'].value}\")\n",
    "\n",
    "sparql.query()"
   ]
  },
  {
   "cell_type": "code",
   "execution_count": null,
   "id": "51fd0827-a7fd-4625-bbba-596fc2968836",
   "metadata": {
    "tags": []
   },
   "outputs": [],
   "source": [
    "query = \"\"\"\n",
    "PREFIX rdf: <http://www.w3.org/1999/02/22-rdf-syntax-ns#>\n",
    "PREFIX rdfs: <http://www.w3.org/2000/01/rdf-schema#>\n",
    "SELECT * WHERE {\n",
    "    GRAPH ?g {\n",
    "        ?s ?p ?o .\n",
    "    }\n",
    "} LIMIT 10\n",
    "\"\"\"\n",
    "\n",
    "query = \"\"\"\n",
    "SELECT ?s WHERE {\n",
    " ?s ?p ?o\n",
    "} LIMIT 10'\n",
    "\"\"\"\n",
    "\n",
    "query_enc = urllib.parse.quote(query)\n",
    "\n",
    "sparql = SPARQLWrapper(\"http://labware-databank:8000/sparql\")\n",
    "sparql.setQuery(query_enc)\n",
    "\n",
    "#for result in sparql.query().bindings:\n",
    "#    print(result) #print(f\"{result['label'].lang}, {result['label'].value}\")\n",
    "\n",
    "#sparql.query()\n",
    "query_enc"
   ]
  },
  {
   "cell_type": "code",
   "execution_count": null,
   "id": "4cc83615-44d3-4c66-976d-028d3bd0b281",
   "metadata": {
    "tags": []
   },
   "outputs": [],
   "source": [
    "# Convert results to JSON format\n",
    "sparql.setReturnFormat(JSON)\n",
    "result = sparql.query().convert()\n",
    "\n",
    "# The return data contains \"bindings\" (a list of dictionaries)\n",
    "for hit in result[\"results\"][\"bindings\"]:\n",
    "    # We want the \"value\" attribute of the \"comment\" field\n",
    "    print(hit[\"comment\"][\"value\"])"
   ]
  },
  {
   "cell_type": "code",
   "execution_count": null,
   "id": "5752d401-a150-4211-ad74-bad2e1c766f4",
   "metadata": {},
   "outputs": [],
   "source": []
  }
 ],
 "metadata": {
  "kernelspec": {
   "display_name": "Python 3 (ipykernel)",
   "language": "python",
   "name": "python3"
  },
  "language_info": {
   "codemirror_mode": {
    "name": "ipython",
    "version": 3
   },
   "file_extension": ".py",
   "mimetype": "text/x-python",
   "name": "python",
   "nbconvert_exporter": "python",
   "pygments_lexer": "ipython3",
   "version": "3.10.9"
  }
 },
 "nbformat": 4,
 "nbformat_minor": 5
}

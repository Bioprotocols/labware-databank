{
 "cells": [
  {
   "attachments": {},
   "cell_type": "markdown",
   "metadata": {},
   "source": [
    "# Debugging owlready"
   ]
  },
  {
   "cell_type": "code",
   "execution_count": null,
   "metadata": {},
   "outputs": [],
   "source": [
    "import os\n",
    "import pathlib\n",
    "import logging\n",
    "import pandas as pd\n",
    "from emmopy import get_emmo\n",
    "from ontopy import World\n",
    "\n",
    "#import labop_labware_ontology.labop_labware_ontology_impl as lolwi"
   ]
  },
  {
   "cell_type": "code",
   "execution_count": null,
   "metadata": {},
   "outputs": [],
   "source": [
    "# loading EMMO ontology\n",
    "emmo_world = World()\n",
    "emmo = emmo_world.get_ontology()\n",
    "emmo.load()               # reload_if_newer = True\n",
    "emmo.sync_python_names()  # synchronize annotations\n",
    "emmo.base_iri = emmo.base_iri.rstrip('/#')\n",
    "#self.catalog_mappings = {emmo.base_iri: emmo_url}"
   ]
  },
  {
   "cell_type": "code",
   "execution_count": null,
   "metadata": {},
   "outputs": [],
   "source": [
    "# create t-box\n",
    "lolwt_base_iri = \"http://www.labop.org/labop_labware_tbox#\"\n",
    "\n",
    "lolwt = emmo_world.get_ontology(lolwt_base_iri)\n",
    "lolwt.imported_ontologies.append(emmo)\n",
    "\n",
    "with lolwt:\n",
    "    class WellVolume(self.emmo.Volume):\n",
    "                \"\"\"Total Labware volume \"\"\"\n",
    "\n",
    "    class WellDistRow(self.emmo.Length):\n",
    "        \"\"\"wWll-to-well distance in row direction\"\"\"\n",
    "    \n",
    "    class WellDistCol(self.emmo.Length):\n",
    "        \"\"\"\"Well-to-well distance in column direction\"\"\"\n",
    "\n",
    "\n",
    "\n"
   ]
  },
  {
   "cell_type": "code",
   "execution_count": null,
   "metadata": {},
   "outputs": [],
   "source": [
    "# create a-box"
   ]
  },
  {
   "cell_type": "code",
   "execution_count": null,
   "metadata": {},
   "outputs": [],
   "source": [
    "#base_iri = 'http://www.labop.org/labop_labware_abox'\n",
    "#lolwa_version_iri = f'http://www.labop.org/{__version__}/labware-a'\n",
    "\n",
    "lwemmo_filename = \"labop_labware_emmo.ttl\"\n",
    "\n",
    "print(\"loading ontology from file: \", lwemmo_filename, \" ...\")\n",
    "emmo_ext = emmo_world.get_ontology(lwemmo_filename)\n",
    "#lolwa.base_iri = base_iri\n",
    "emmo_ext.load()\n",
    "\n",
    "print(\" ##### classes:\", list(emmo_ext.classes()))  "
   ]
  },
  {
   "cell_type": "code",
   "execution_count": null,
   "metadata": {},
   "outputs": [],
   "source": [
    "emmo_world.ontologies"
   ]
  },
  {
   "cell_type": "code",
   "execution_count": null,
   "metadata": {},
   "outputs": [],
   "source": [
    "emmo = emmo_world.ontologies['http://emmo.info/emmo-inferred']"
   ]
  },
  {
   "cell_type": "code",
   "execution_count": null,
   "metadata": {},
   "outputs": [],
   "source": [
    "list(emmo.classes())"
   ]
  },
  {
   "cell_type": "code",
   "execution_count": null,
   "metadata": {},
   "outputs": [],
   "source": [
    "tbox = emmo_world.ontologies['http://www.labop.org/labop_labware_tbox#']\n",
    "list(tbox.classes())"
   ]
  },
  {
   "cell_type": "code",
   "execution_count": null,
   "metadata": {},
   "outputs": [],
   "source": [
    "tbox.Labware.iri"
   ]
  },
  {
   "cell_type": "code",
   "execution_count": null,
   "metadata": {},
   "outputs": [],
   "source": [
    "\n",
    "\n",
    "\n",
    "#base_iri = 'http://www.labop.org/labop_labware_abox'\n",
    "#lolwa_version_iri = f'http://www.labop.org/{__version__}/labware-a'\n",
    "\n",
    "lw_tbox_filename = \"../ontologies/labop_labware_tbox.ttl\"\n",
    "\n",
    "print(\"loading ontology from file: \", lw_tbox_filename, \" ...\")\n",
    "lolwt = emmo_world.get_ontology(lw_tbox_filename)\n",
    "#lolwa.base_iri = base_iri\n",
    "lolwt.load()\n",
    "\n",
    "print(\" ##### classes:\", list(lolwt.classes()))  "
   ]
  },
  {
   "cell_type": "code",
   "execution_count": null,
   "metadata": {},
   "outputs": [],
   "source": [
    "emmo_world.ontologies"
   ]
  },
  {
   "cell_type": "code",
   "execution_count": null,
   "metadata": {},
   "outputs": [],
   "source": [
    "lolwt.Device.iri"
   ]
  },
  {
   "cell_type": "code",
   "execution_count": null,
   "metadata": {},
   "outputs": [],
   "source": [
    "lw_abox_filename = \"../ontologies/labop_labware_abox.ttl\"\n",
    "\n",
    "print(\"loading ontology from file: \", lw_abox_filename, \" ...\")\n",
    "lolwa = emmo_world.get_ontology(lw_abox_filename)\n",
    "#lolwa.base_iri = base_iri\n",
    "lolwa.load()\n",
    "\n",
    "print(\" ##### classes:\", list(lolwa.classes()))  "
   ]
  },
  {
   "cell_type": "code",
   "execution_count": null,
   "metadata": {},
   "outputs": [],
   "source": [
    "print(\" ##### classes:\", list(lolwt.classes()))  "
   ]
  },
  {
   "cell_type": "code",
   "execution_count": null,
   "metadata": {},
   "outputs": [],
   "source": []
  }
 ],
 "metadata": {
  "kernelspec": {
   "display_name": "lara",
   "language": "python",
   "name": "python3"
  },
  "language_info": {
   "codemirror_mode": {
    "name": "ipython",
    "version": 3
   },
   "file_extension": ".py",
   "mimetype": "text/x-python",
   "name": "python",
   "nbconvert_exporter": "python",
   "pygments_lexer": "ipython3",
   "version": "3.10.6"
  },
  "orig_nbformat": 4
 },
 "nbformat": 4,
 "nbformat_minor": 2
}

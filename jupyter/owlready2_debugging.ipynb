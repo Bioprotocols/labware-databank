{
 "cells": [
  {
   "attachments": {},
   "cell_type": "markdown",
   "metadata": {},
   "source": [
    "# Debugging owlready"
   ]
  },
  {
   "cell_type": "code",
   "execution_count": 5,
   "metadata": {},
   "outputs": [],
   "source": [
    "import os\n",
    "import pathlib\n",
    "import logging\n",
    "import pandas as pd\n",
    "from emmopy import get_emmo\n",
    "from ontopy import World\n",
    "\n",
    "#import labop_labware_ontology.labop_labware_ontology_impl as lolwi"
   ]
  },
  {
   "cell_type": "code",
   "execution_count": null,
   "metadata": {},
   "outputs": [],
   "source": [
    "# loading EMMO ontology\n",
    "emmo_world = World()\n",
    "emmo = emmo_world.get_ontology()\n",
    "emmo.load()               # reload_if_newer = True\n",
    "emmo.sync_python_names()  # synchronize annotations\n",
    "emmo.base_iri = emmo.base_iri.rstrip('/#')\n",
    "#self.catalog_mappings = {emmo.base_iri: emmo_url}"
   ]
  },
  {
   "cell_type": "code",
   "execution_count": null,
   "metadata": {},
   "outputs": [],
   "source": [
    "# create t-box\n",
    "lolwt_base_iri = \"http://www.labop.org/labop_labware_abox#\"\n",
    "\n",
    "lolwt = emmo_world.get_ontology(lolwt_base_iri)\n",
    "lolwt.imported_ontologies.append(emmo)\n",
    "\n",
    "with lolwt:\n",
    "    class WellVolume(self.emmo.Volume):\n",
    "                \"\"\"Total Labware volume \"\"\"\n",
    "\n",
    "    class WellDistRow(self.emmo.Length):\n",
    "        \"\"\"wWll-to-well distance in row direction\"\"\"\n",
    "    \n",
    "    class WellDistCol(self.emmo.Length):\n",
    "        \"\"\"\"Well-to-well distance in column direction\"\"\"\n",
    "\n",
    "\n",
    "\n"
   ]
  },
  {
   "cell_type": "code",
   "execution_count": null,
   "metadata": {},
   "outputs": [],
   "source": [
    "# create a-box"
   ]
  },
  {
   "cell_type": "code",
   "execution_count": 6,
   "metadata": {},
   "outputs": [
    {
     "name": "stdout",
     "output_type": "stream",
     "text": [
      "loading ontology from file:  test_labop_labware_abox_mini.ttl  ...\n",
      " ##### classes: []\n"
     ]
    },
    {
     "name": "stderr",
     "output_type": "stream",
     "text": [
      "/home/mark/py3venv/lara10/lib/python3.10/site-packages/ontopy/ontology.py:435: UserWarning: adding new IRI to ontology: http://www.w3.org/2004/02/skos/core#prefLabel\n",
      "  warnings.warn(f\"adding new IRI to ontology: {iri}\")\n",
      "/home/mark/py3venv/lara10/lib/python3.10/site-packages/ontopy/ontology.py:435: UserWarning: adding new IRI to ontology: http://www.w3.org/2004/02/skos/core#altLabel\n",
      "  warnings.warn(f\"adding new IRI to ontology: {iri}\")\n"
     ]
    }
   ],
   "source": [
    "\n",
    "emmo_world = World()\n",
    "\n",
    "#base_iri = 'http://www.labop.org/labop_labware_abox'\n",
    "#lolwa_version_iri = f'http://www.labop.org/{__version__}/labware-a'\n",
    "\n",
    "lw_tbox_filename = \"labop_labware_tbox.ttl\"\n",
    "\n",
    "print(\"loading ontology from file: \", lw_abox_filename, \" ...\")\n",
    "lolwt = emmo_world.get_ontology(lw_tbox_filename)\n",
    "#lolwa.base_iri = base_iri\n",
    "lolwt.load()\n",
    "\n",
    "print(\" ##### classes:\", list(lolwt.classes()))  "
   ]
  },
  {
   "cell_type": "code",
   "execution_count": null,
   "metadata": {},
   "outputs": [],
   "source": [
    "lw_abox_filename = \"test_labop_labware_abox_mini.ttl\"\n",
    "\n",
    "print(\"loading ontology from file: \", lw_abox_filename, \" ...\")\n",
    "lolwa = emmo_world.get_ontology(lw_abox_filename)\n",
    "#lolwa.base_iri = base_iri\n",
    "lolwa.load()\n",
    "\n",
    "print(\" ##### classes:\", list(lolwa.classes()))  "
   ]
  },
  {
   "cell_type": "code",
   "execution_count": null,
   "metadata": {},
   "outputs": [],
   "source": [
    "print(\" ##### classes:\", list(lolwt.classes()))  "
   ]
  },
  {
   "cell_type": "code",
   "execution_count": null,
   "metadata": {},
   "outputs": [],
   "source": []
  }
 ],
 "metadata": {
  "kernelspec": {
   "display_name": "lara",
   "language": "python",
   "name": "python3"
  },
  "language_info": {
   "codemirror_mode": {
    "name": "ipython",
    "version": 3
   },
   "file_extension": ".py",
   "mimetype": "text/x-python",
   "name": "python",
   "nbconvert_exporter": "python",
   "pygments_lexer": "ipython3",
   "version": "3.10.6"
  },
  "orig_nbformat": 4
 },
 "nbformat": 4,
 "nbformat_minor": 2
}

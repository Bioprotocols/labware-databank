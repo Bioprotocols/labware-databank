{
 "cells": [
  {
   "attachments": {},
   "cell_type": "markdown",
   "metadata": {},
   "source": [
    "# Debugging owlready"
   ]
  },
  {
   "cell_type": "code",
   "execution_count": 3,
   "metadata": {},
   "outputs": [],
   "source": [
    "import os\n",
    "import pathlib\n",
    "import logging\n",
    "import pandas as pd\n",
    "from ontopy import World\n",
    "\n",
    "import labop_labware_ontology.labop_labware_ontology_impl as lolwi\n"
   ]
  },
  {
   "cell_type": "code",
   "execution_count": 5,
   "metadata": {},
   "outputs": [],
   "source": [
    "# loading EMMO ontology\n",
    "emmo_world = World()\n",
    "\n"
   ]
  },
  {
   "cell_type": "code",
   "execution_count": null,
   "metadata": {},
   "outputs": [],
   "source": [
    "# create t-box\n"
   ]
  },
  {
   "cell_type": "code",
   "execution_count": null,
   "metadata": {},
   "outputs": [],
   "source": [
    "# create a-box"
   ]
  },
  {
   "cell_type": "code",
   "execution_count": null,
   "metadata": {},
   "outputs": [],
   "source": [
    "\n",
    "emmo_world = World()\n",
    "\n",
    "base_iri = 'http://www.labop.org/labop_labware_abox'\n",
    "#lolwa_version_iri = f'http://www.labop.org/{__version__}/labware-a'\n",
    "\n",
    "lw_abox_filename = \"test_labop_labware_abox_mini.ttl\"\n",
    "\n",
    "print(\"LOLabwareABox:lw_abox_filename:\", lw_abox_filename)\n",
    "\n",
    "print(\"loading ontology from file: \", lw_abox_filename, \" ...\")\n",
    "lolwa = emmo_world.get_ontology(lw_abox_filename)\n",
    "#lolwa.base_iri = base_iri\n",
    "lolwa.load()\n",
    "\n",
    "print(\" ##### classes:\", list(lolwa.classes()))  "
   ]
  }
 ],
 "metadata": {
  "kernelspec": {
   "display_name": "lara",
   "language": "python",
   "name": "python3"
  },
  "language_info": {
   "codemirror_mode": {
    "name": "ipython",
    "version": 3
   },
   "file_extension": ".py",
   "mimetype": "text/x-python",
   "name": "python",
   "nbconvert_exporter": "python",
   "pygments_lexer": "ipython3",
   "version": "3.10.6"
  },
  "orig_nbformat": 4
 },
 "nbformat": 4,
 "nbformat_minor": 2
}

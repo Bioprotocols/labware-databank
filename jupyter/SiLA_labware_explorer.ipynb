{
 "cells": [
  {
   "attachments": {},
   "cell_type": "markdown",
   "metadata": {},
   "source": [
    "# LabOP labware database SiLA microservice explorer\n",
    "\n",
    "The SiLA microservice is running in a separte docker container on port 50052 via the cotainer-network.\n",
    "\n",
    "This Jupiter notebook show some simple examples, how to use the SiLA microservices.\n",
    "\n",
    "The SiLA microservice offers three different services:\n",
    "\n",
    "1. LabautomationService\n",
    "1. LabwareQueryService\n",
    "1. LabwareService"
   ]
  },
  {
   "cell_type": "code",
   "execution_count": null,
   "metadata": {},
   "outputs": [],
   "source": [
    "import logging\n",
    "from sila2.client import SilaClient\n",
    "\n",
    "#sila_server_host = \"localhost\"\n",
    "sila_server_host = \"labware-databank\"\n",
    "sila_server_port = 50052\n",
    "client = SilaClient(sila_server_host, sila_server_port, insecure=True)"
   ]
  },
  {
   "attachments": {},
   "cell_type": "markdown",
   "metadata": {},
   "source": [
    "## Query SiLA features of SiLA server"
   ]
  },
  {
   "cell_type": "code",
   "execution_count": null,
   "metadata": {},
   "outputs": [],
   "source": [
    "client.SiLAService.ImplementedFeatures.get()"
   ]
  },
  {
   "cell_type": "code",
   "execution_count": null,
   "metadata": {},
   "outputs": [],
   "source": [
    "client.SiLAService.GetFeatureDefinition(FeatureIdentifier=\"de.unigreifswald/labware/LabwareAutomationService/v1\")"
   ]
  },
  {
   "attachments": {},
   "cell_type": "markdown",
   "metadata": {},
   "source": [
    "## Using the Labautomation service"
   ]
  },
  {
   "cell_type": "code",
   "execution_count": null,
   "metadata": {},
   "outputs": [],
   "source": [
    "labauto_client = client.LabwareAutomationService\n",
    "labauto_client.GetLabwareDimensions(Manufacturer=\"Saarstedt\", ProductID=\"123456\", Unit=\"mm\").Dimensions"
   ]
  },
  {
   "cell_type": "code",
   "execution_count": null,
   "metadata": {},
   "outputs": [],
   "source": [
    "\n",
    "labauto_client.GetGrippingHeight(Manufacturer=\"Greiner\", ProductID=\"123456\", Unit=\"mm\", Lidded=False).GrippingHeight"
   ]
  },
  {
   "cell_type": "code",
   "execution_count": null,
   "metadata": {},
   "outputs": [],
   "source": [
    "labauto_client.GetGrippingHeight(Manufacturer=\"Greiner\", ProductID=\"123456\", Unit=\"mm\", Lidded=True).GrippingHeight"
   ]
  },
  {
   "cell_type": "code",
   "execution_count": null,
   "metadata": {},
   "outputs": [],
   "source": [
    "labauto_client.GetLabwareWellVolume(Manufacturer=\"Greiner\", ProductID=\"123456\", Unit=\"mm\").Volume"
   ]
  },
  {
   "attachments": {},
   "cell_type": "markdown",
   "metadata": {},
   "source": [
    "## Using the SiLA SPARQL query service"
   ]
  },
  {
   "cell_type": "code",
   "execution_count": null,
   "metadata": {},
   "outputs": [],
   "source": [
    "# get all labware from Greiner\n",
    "\n",
    "query = \"\"\"\n",
    "\n",
    "PREFIX lolw: <http://www.labop.org/labware#>\n",
    "\n",
    "SELECT ?lw_name ?lw_num_wells \n",
    "WHERE {\n",
    "    ?lw_name rdf:type lolw:Labware.\n",
    "    ?lw_name lolw:hasManifacturer \"Greiner\".\n",
    "    ?lw_name lolw:hasNumWells ?lw_num_wells.\n",
    "    }\n",
    "\"\"\""
   ]
  },
  {
   "cell_type": "code",
   "execution_count": null,
   "metadata": {},
   "outputs": [],
   "source": [
    "# actual query call\n",
    "\n",
    "res = client.LabwareQueryService.SPARQLQuery(Query=query)\n",
    "res.Result"
   ]
  },
  {
   "cell_type": "code",
   "execution_count": null,
   "metadata": {},
   "outputs": [],
   "source": []
  },
  {
   "cell_type": "code",
   "execution_count": null,
   "metadata": {},
   "outputs": [],
   "source": [
    "# get first 100 triples\n",
    "\n",
    "query = \"SELECT * WHERE { ?s ?p ?o } LIMIT 100\""
   ]
  },
  {
   "cell_type": "code",
   "execution_count": null,
   "metadata": {},
   "outputs": [],
   "source": [
    "import re\n",
    "\n",
    "query = \"SELECT ?lw_name ?lw_num_wells\"\n",
    "\n",
    "# regular expression to find all variables in the query\n",
    "\n",
    "variables = re.findall(r\"\\?(\\w+)\", query)\n",
    "\n",
    "variables"
   ]
  },
  {
   "cell_type": "code",
   "execution_count": null,
   "metadata": {},
   "outputs": [],
   "source": [
    "import pandas as pd\n",
    "\n",
    "df_head = pd.DataFrame(columns=variables)\n",
    "\n",
    "res_list = [[\"labware.conical-50\", 1.0], [\"labware.96-flat-black-black-fluotrac-600\", 96.0], [\"labware.conical-15\", 1.0], [\"labware.tube-15\", 1.0], [\"labware.384-v-clear-clear\", 384.0], [\"labware.1536-white-tc\", 1536.0]]\n",
    "\n",
    "# pandas dataframe from res_list with header df_head\n",
    "\n",
    "res_df = pd.DataFrame(columns=variables, data=res_list)\n",
    "\n",
    "\n",
    "res_df"
   ]
  },
  {
   "cell_type": "code",
   "execution_count": null,
   "metadata": {},
   "outputs": [],
   "source": [
    "# res_df in json format\n",
    "\n",
    "res_json = res_df.to_json(orient=\"records\")\n",
    "\n",
    "# res_json in string format\n",
    "\n",
    "res_json_str = res_df.to_json(orient=\"records\")\n",
    "\n",
    "type(res_json_str)\n",
    "\n",
    "\n",
    "\n"
   ]
  },
  {
   "cell_type": "code",
   "execution_count": null,
   "metadata": {},
   "outputs": [],
   "source": []
  }
 ],
 "metadata": {
  "kernelspec": {
   "display_name": "lara10",
   "language": "python",
   "name": "python3"
  },
  "language_info": {
   "codemirror_mode": {
    "name": "ipython",
    "version": 3
   },
   "file_extension": ".py",
   "mimetype": "text/x-python",
   "name": "python",
   "nbconvert_exporter": "python",
   "pygments_lexer": "ipython3",
   "version": "3.10.6 (main, Nov 14 2022, 16:10:14) [GCC 11.3.0]"
  },
  "orig_nbformat": 4,
  "vscode": {
   "interpreter": {
    "hash": "4e9d87653db52c347ca95dcfde7039702998970d88d06a3d2a1455e0aa9e09dd"
   }
  }
 },
 "nbformat": 4,
 "nbformat_minor": 2
}
